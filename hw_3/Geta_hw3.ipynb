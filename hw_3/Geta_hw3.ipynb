{
 "cells": [
  {
   "cell_type": "markdown",
   "metadata": {
    "id": "QNo-2K59xI2L"
   },
   "source": [
    "### Машинное обучение\n",
    "## Домашнее задание №3 - Градиентный бустинг"
   ]
  },
  {
   "cell_type": "markdown",
   "metadata": {
    "id": "RLlsookvxI2M"
   },
   "source": [
    "**Общая информация**\n",
    "\n",
    "**Срок сдачи:** 16 февраля 2023, 08:30   \n",
    "**Штраф за опоздание:** -2 балла за каждые сутки\n",
    "\n",
    "Используйте данный Ipython Notebook при оформлении домашнего задания."
   ]
  },
  {
   "cell_type": "markdown",
   "metadata": {
    "id": "ZwCiftUjxI2N"
   },
   "source": [
    "##  Считаем производные для функций потерь (1 балл)"
   ]
  },
  {
   "cell_type": "markdown",
   "metadata": {
    "id": "gSIcCn3YxI2N"
   },
   "source": [
    "Мы будем реализовать градиентный бустинг для 3 функций потерь:\n",
    "\n",
    "1) MSE  $L(a(x_i), y_i) = (y_i - a(x_i)) ^ 2$\n",
    "\n",
    "2) Экспоненциальная  $L(a(x_i), y_i) = exp( -a(x_i) y_i), y_i \\in \\{-1, 1\\}$\n",
    "\n",
    "3) Логистическая  $L(a(x_i), y_i) = \\log (1 + exp( -a(x_i) y_i)), y_i \\in \\{-1, 1\\}$\n",
    "\n",
    "где $a(x_i)$ предсказание бустинга на итом объекте. \n",
    "\n",
    "Для каждой функции потерь напишите таргет, на который будет настраиваться каждое дерево в бустинге. "
   ]
  },
  {
   "cell_type": "markdown",
   "metadata": {
    "id": "hy4k76EexI2N"
   },
   "source": [
    "Ваше решение тут"
   ]
  },
  {
   "cell_type": "markdown",
   "metadata": {
    "id": "VeAuTSu_xI2O"
   },
   "source": [
    "##  Реализуем градиентный бустинг (3 балла)"
   ]
  },
  {
   "cell_type": "markdown",
   "metadata": {
    "id": "CRZhfuMhxI2O"
   },
   "source": [
    "Реализуйте класс градиентного бустинга для классификации. Ваша реализация бустинга должна работать по точности не более чем на 5 процентов хуже чем GradientBoostingClassifier из sklearn. \n"
   ]
  },
  {
   "cell_type": "markdown",
   "metadata": {
    "id": "3qRpXhC8xI2O"
   },
   "source": [
    "Детали реализации:\n",
    "\n",
    "-- должно поддерживаться 3 функции потерь\n",
    "\n",
    "-- сами базовые алгоритмы(деревья, линейные модели и тп) реализовать не надо, просто возьмите готовые из sklearn\n",
    "\n",
    "-- в качестве функции потерь для построения одного дерева используйте MSE\n",
    "\n",
    "-- шаг в бустинге можно не подбирать, можно брать константный\n",
    "\n",
    "-- можно брать разные модели в качестве инициализации бустинга\n",
    "\n",
    "-- должны поддерживаться следующие параметры:\n",
    "\n",
    "а) число итераций\n",
    "б) размер шага\n",
    "в) процент случайных фичей при построении одного дерева\n",
    "д) процент случайных объектов при построении одного дерева\n",
    "е) параметры базового алгоритма (передавайте через **kwargs)"
   ]
  },
  {
   "cell_type": "code",
   "execution_count": 13,
   "metadata": {
    "executionInfo": {
     "elapsed": 370,
     "status": "ok",
     "timestamp": 1676503240693,
     "user": {
      "displayName": "Ольга Гета",
      "userId": "00618668048117275602"
     },
     "user_tz": -180
    },
    "id": "kwI79a32xI2O"
   },
   "outputs": [],
   "source": [
    "import numpy as np\n",
    "from sklearn.datasets import load_wine\n",
    "from sklearn.ensemble import GradientBoostingClassifier\n",
    "from sklearn.metrics import accuracy_score\n",
    "from sklearn.model_selection import train_test_split\n",
    "from sklearn.tree import DecisionTreeRegressor\n",
    "from sklearn.model_selection import GridSearchCV\n",
    "from sklearn.model_selection import KFold\n",
    "from sklearn.ensemble import RandomForestRegressor\n",
    "from sklearn.neighbors import KNeighborsRegressor\n",
    "from sklearn.linear_model import LinearRegression\n",
    "from sklearn.svm import SVR\n",
    "import matplotlib.pyplot as plt"
   ]
  },
  {
   "cell_type": "code",
   "execution_count": 19,
   "metadata": {
    "executionInfo": {
     "elapsed": 6,
     "status": "ok",
     "timestamp": 1676503240978,
     "user": {
      "displayName": "Ольга Гета",
      "userId": "00618668048117275602"
     },
     "user_tz": -180
    },
    "id": "IZhOU75fxI2P"
   },
   "outputs": [],
   "source": [
    "class MyGradientBoostingClassifier:\n",
    "\n",
    "    def __init__(self, loss= \"MSE\", learning_rate = 0.1, n_estimators=100, colsample=1, subsample=1, *args, **kwargs):\n",
    "        \"\"\"\n",
    "        loss -- один из 3 лоссов:\n",
    "        learning_rate -- шаг бустинга\n",
    "        n_estimators -- число итераций\n",
    "        colsample -- процент рандомных признаков при обучнеии одного алгоритма\n",
    "        colsample -- процент рандомных объектов при обучнеии одного алгоритма\n",
    "        args, kwargs -- параметры  базовых моделей\n",
    "        \"\"\"\n",
    "        self.loss = loss\n",
    "        self.learning_rate = 0.1\n",
    "        self.n_estimators = n_estimators\n",
    "        self.colsample = colsample\n",
    "        self.subsample = subsample\n",
    "        self.args = args\n",
    "        self.kwargs = kwargs\n",
    "        self.list_model = []\n",
    "        self.num_features = []\n",
    "        self.F_x = None\n",
    "        self.start_const = None\n",
    "        self.start_model = None\n",
    "        self.y_bi = False\n",
    "    \n",
    "    def new_y(self, y):\n",
    "        if self.loss == \"MSE\":\n",
    "            return -2*(self.F_x - y)\n",
    "        elif self.loss == \"log_loss\":\n",
    "            return y*np.exp(-self.F_x * y)\n",
    "        else:\n",
    "            return y*np.exp(-self.F_x * y)/(1 + np.exp(-self.F_x * y))\n",
    "        \n",
    "    \n",
    "    \n",
    "    def fit(self, X, y, base_model= DecisionTreeRegressor, init_model=None):\n",
    "        \"\"\"\n",
    "        X -- объекты для обучения:\n",
    "        y -- таргеты для обучения\n",
    "        base_model -- класс базовых моделей, например sklearn.tree.DecisionTreeRegressor\n",
    "        init_model -- класс для первой модели, если None то берем константу (только для посл задания)\n",
    "        \"\"\"\n",
    "        X = np.asarray(X)\n",
    "        y = np.asarray(y)\n",
    "        if (np.unique(y)[0] == -1 and np.unique(y)[1] == 1):\n",
    "            self.y_bi = True\n",
    "        \n",
    "        if init_model == None:\n",
    "            index_str = np.sort(np.random.choice(y.size, int(y.size * self.subsample), replace=False))\n",
    "            self.start_const = np.mean(y[index_str])\n",
    " \n",
    "        else:\n",
    "            clf = init_model()\n",
    "            index_str = np.sort(np.random.choice(y.size, int(y.size * self.subsample), replace=False))\n",
    "            clf.fit(X[index_str], y[index_str])\n",
    "            self.start_model = clf\n",
    "\n",
    "        for i in range(self.n_estimators):\n",
    "            index_str = np.sort(np.random.choice(y.size, int(y.size * self.subsample), replace=False))\n",
    "            index_col = np.sort(np.random.choice(X.shape[1], int(X.shape[1] * self.colsample), replace=False))\n",
    "            \n",
    "            if self.start_model == None:\n",
    "                self.F_x = np.full(int(y.size * self.subsample), self.start_const)\n",
    "            else:\n",
    "                self.F_x = self.start_model.predict(X[index_str])\n",
    "            for i, clf in enumerate(self.list_model):\n",
    "                self.F_x += self.learning_rate * clf.predict(X[np.ix_(index_str, self.num_features[i])])\n",
    "            self.F_x = np.asarray(self.F_x)    \n",
    "                \n",
    "            clf = base_model(*self.args, **self.kwargs)\n",
    "            clf.fit(X[np.ix_(index_str, index_col)], self.new_y(y[index_str]))\n",
    "            self.list_model.append(clf)\n",
    "            self.num_features.append(index_col)\n",
    "        \n",
    "    def predict(self, X):\n",
    "        X = np.asarray(X)\n",
    "        if self.start_model == None:\n",
    "            pred = np.full(X.shape[0], self.start_const)\n",
    "        else:\n",
    "            pred = self.start_model.predict(X)\n",
    "        \n",
    "        for i, clf in enumerate(self.list_model):\n",
    "            pred += self.learning_rate * clf.predict(X[:,self.num_features[i]])\n",
    "        if not(self.y_bi):\n",
    "            return np.around(pred).astype(int)\n",
    "        else:\n",
    "            pred = np.asarray(pred)\n",
    "            ind = np.abs(pred - 1) >= np.abs(pred + 1)\n",
    "            ind = np.asarray(ind)\n",
    "            pred[ind] = -1\n",
    "            pred[np.logical_not(ind)] = 1\n",
    "            return pred\n",
    "\n"
   ]
  },
  {
   "cell_type": "code",
   "execution_count": 20,
   "metadata": {
    "executionInfo": {
     "elapsed": 4,
     "status": "ok",
     "timestamp": 1676503240978,
     "user": {
      "displayName": "Ольга Гета",
      "userId": "00618668048117275602"
     },
     "user_tz": -180
    },
    "id": "7U7mqcIlxI2P"
   },
   "outputs": [],
   "source": [
    "my_clf = MyGradientBoostingClassifier()\n",
    "clf = GradientBoostingClassifier()"
   ]
  },
  {
   "cell_type": "code",
   "execution_count": 21,
   "metadata": {
    "executionInfo": {
     "elapsed": 278,
     "status": "ok",
     "timestamp": 1676503241252,
     "user": {
      "displayName": "Ольга Гета",
      "userId": "00618668048117275602"
     },
     "user_tz": -180
    },
    "id": "8iwYcAgtxI2Q"
   },
   "outputs": [],
   "source": [
    "wine = load_wine()\n",
    "X_train, X_test, y_train, y_test = train_test_split(wine.data, wine.target, test_size=0.1, stratify=wine.target)"
   ]
  },
  {
   "cell_type": "code",
   "execution_count": 22,
   "metadata": {
    "colab": {
     "base_uri": "https://localhost:8080/"
    },
    "executionInfo": {
     "elapsed": 3264,
     "status": "ok",
     "timestamp": 1676503244514,
     "user": {
      "displayName": "Ольга Гета",
      "userId": "00618668048117275602"
     },
     "user_tz": -180
    },
    "id": "lyZDIIFXxI2Q",
    "outputId": "f99bf7a8-ac16-4990-fa5d-5114db0d4609"
   },
   "outputs": [
    {
     "name": "stdout",
     "output_type": "stream",
     "text": [
      "0.8888888888888888\n",
      "0.8888888888888888\n"
     ]
    }
   ],
   "source": [
    "my_clf.fit(X_train, y_train)\n",
    "clf.fit(X_train, y_train)\n",
    "print(accuracy_score(y_pred=clf.predict(X_test), y_true=y_test))\n",
    "print(accuracy_score(y_pred=my_clf.predict(X_test), y_true=y_test))"
   ]
  },
  {
   "cell_type": "markdown",
   "metadata": {
    "id": "cgus-amnxI2Q"
   },
   "source": [
    "## Подбираем параметры (2 балла)\n",
    "\n",
    "Давайте попробуем применить Ваш бустинг для предсказаний цены домов в Калифорнии. Чтобы можно было попробовтаь разные функции потерь, переведем по порогу таргет в 2 класса: дорогие и дешевые дома."
   ]
  },
  {
   "cell_type": "markdown",
   "metadata": {
    "id": "pSoKs94oxI2Q"
   },
   "source": [
    "В задании нужно\n",
    "\n",
    "1) Построить график точности в зависимости от числа итераций на валидации.\n",
    "\n",
    "2) Подобрать оптимальные параметры Вашего бустинга на валидации. \n"
   ]
  },
  {
   "cell_type": "code",
   "execution_count": 6,
   "metadata": {
    "executionInfo": {
     "elapsed": 13,
     "status": "ok",
     "timestamp": 1676503244515,
     "user": {
      "displayName": "Ольга Гета",
      "userId": "00618668048117275602"
     },
     "user_tz": -180
    },
    "id": "A4Ky019ixI2Q"
   },
   "outputs": [],
   "source": [
    "from sklearn.datasets import fetch_california_housing\n",
    "X, y = fetch_california_housing(return_X_y=True)"
   ]
  },
  {
   "cell_type": "code",
   "execution_count": 7,
   "metadata": {
    "executionInfo": {
     "elapsed": 7,
     "status": "ok",
     "timestamp": 1676503244515,
     "user": {
      "displayName": "Ольга Гета",
      "userId": "00618668048117275602"
     },
     "user_tz": -180
    },
    "id": "s--8v2OfxfcB"
   },
   "outputs": [],
   "source": [
    "X = np.asarray(X)\n",
    "y = np.asarray(y)"
   ]
  },
  {
   "cell_type": "code",
   "execution_count": 8,
   "metadata": {
    "colab": {
     "base_uri": "https://localhost:8080/"
    },
    "executionInfo": {
     "elapsed": 7,
     "status": "ok",
     "timestamp": 1676503244515,
     "user": {
      "displayName": "Ольга Гета",
      "userId": "00618668048117275602"
     },
     "user_tz": -180
    },
    "id": "g5QShHf_xI2R",
    "outputId": "ac8f6bd8-c3fd-42ba-8270-d65259035c18"
   },
   "outputs": [
    {
     "name": "stdout",
     "output_type": "stream",
     "text": [
      "(20640, 8) (20640,)\n"
     ]
    }
   ],
   "source": [
    "# Превращаем регрессию в классификацию\n",
    "y = (y > 2.0).astype(int)\n",
    "print(X.shape, y.shape)"
   ]
  },
  {
   "cell_type": "code",
   "execution_count": 9,
   "metadata": {
    "executionInfo": {
     "elapsed": 5,
     "status": "ok",
     "timestamp": 1676503244516,
     "user": {
      "displayName": "Ольга Гета",
      "userId": "00618668048117275602"
     },
     "user_tz": -180
    },
    "id": "QYTGBVYnxI2R"
   },
   "outputs": [],
   "source": [
    "parametrs_1 = { \"n_estimators\": [5, 10, 20, 30, 50, 70, 100]}\n",
    "parametrs_2 = { \"n_estimators\": [10, 20, 30],\n",
    "              \"loss\": [\"MSE\", \"log_loss\", \"Exp\"],\n",
    "              \"learning_rate\": [0.1, 0.3, 0.5],\n",
    "              \"subsample\": [0.5, 0.8, 1.0],\n",
    "              \"colsample\": [0.5, 0.8, 1.0]}"
   ]
  },
  {
   "cell_type": "code",
   "execution_count": 10,
   "metadata": {
    "colab": {
     "base_uri": "https://localhost:8080/"
    },
    "executionInfo": {
     "elapsed": 492952,
     "status": "ok",
     "timestamp": 1676503737464,
     "user": {
      "displayName": "Ольга Гета",
      "userId": "00618668048117275602"
     },
     "user_tz": -180
    },
    "id": "ULyKIkbNxI2S",
    "outputId": "134f2c81-455b-4640-b73a-8723764014ee"
   },
   "outputs": [
    {
     "name": "stdout",
     "output_type": "stream",
     "text": [
      "n_estimator = 5, Score = 0.9328488372093023\n",
      "\n",
      "n_estimator = 10, Score = 0.9065891472868217\n",
      "\n",
      "n_estimator = 20, Score = 0.8970445736434108\n",
      "\n",
      "n_estimator = 30, Score = 0.8903100775193797\n",
      "\n",
      "n_estimator = 50, Score = 0.8962209302325581\n",
      "\n",
      "n_estimator = 70, Score = 0.89718992248062\n",
      "\n",
      "n_estimator = 100, Score = 0.9002906976744186\n",
      "\n"
     ]
    }
   ],
   "source": [
    "kf = KFold(n_splits = 3, shuffle = True)\n",
    "res = []\n",
    "for n_est in parametrs_1[\"n_estimators\"]:\n",
    "    clf = MyGradientBoostingClassifier(n_estimators=n_est)\n",
    "    ind = kf.split(X)\n",
    "    scores = []\n",
    "    for train_ind, test_ind in ind:\n",
    "        clf.fit(X[train_ind], y[train_ind])\n",
    "        scores.append(accuracy_score(y[test_ind], clf.predict(X[test_ind])))\n",
    "    score = np.mean(np.array(scores))\n",
    "    \n",
    "    print(\"n_estimator = {}, Score = {}\\n\".format(n_est, score))\n",
    "    res.append(score)"
   ]
  },
  {
   "cell_type": "code",
   "execution_count": 12,
   "metadata": {
    "colab": {
     "base_uri": "https://localhost:8080/",
     "height": 298
    },
    "executionInfo": {
     "elapsed": 14,
     "status": "ok",
     "timestamp": 1676503737465,
     "user": {
      "displayName": "Ольга Гета",
      "userId": "00618668048117275602"
     },
     "user_tz": -180
    },
    "id": "2IMVpVAUxoSt",
    "outputId": "ee4edec0-651e-415c-dd4d-4ca26b23c92a"
   },
   "outputs": [
    {
     "data": {
      "image/png": "[encoded data removed]",
      "text/plain": [
       "<Figure size 640x480 with 1 Axes>"
      ]
     },
     "metadata": {},
     "output_type": "display_data"
    }
   ],
   "source": [
    "plt.xlabel(\"n_estimators\")\n",
    "plt.ylabel(\"Score\")\n",
    "plt.title(\"График точности в зависимости от числа иттераций\", fontsize=15)\n",
    "plt.plot(parametrs_1[\"n_estimators\"], res, color=\"green\")\n",
    "plt.show()"
   ]
  },
  {
   "cell_type": "markdown",
   "metadata": {
    "id": "gbj1Le7mx8sY"
   },
   "source": [
    "Увеличение числа итераций градиентного бустинга уменьшает точность модели, но разброс меньше, чем 0.1 \n",
    "Возможно это тренд, но на нашей выборке изменение незначительно"
   ]
  },
  {
   "cell_type": "markdown",
   "metadata": {},
   "source": []
  },
  {
   "cell_type": "code",
   "execution_count": 23,
   "metadata": {
    "executionInfo": {
     "elapsed": 3164472,
     "status": "ok",
     "timestamp": 1676506901930,
     "user": {
      "displayName": "Ольга Гета",
      "userId": "00618668048117275602"
     },
     "user_tz": -180
    },
    "id": "c6zmE7Q5yATq"
   },
   "outputs": [],
   "source": [
    "resv = []\n",
    "best_model = {}\n",
    "max_score = 0.0\n",
    "for n_est in parametrs_2[\"n_estimators\"]:\n",
    "    for los in parametrs_2[\"loss\"]:\n",
    "        for learn_rate in parametrs_2[\"learning_rate\"]:\n",
    "            for subs in parametrs_2[\"subsample\"]:\n",
    "                for cols in parametrs_2[\"colsample\"]:\n",
    "                    clf = MyGradientBoostingClassifier(n_estimators=n_est, loss = los, \n",
    "                                                       learning_rate = learn_rate, subsample = subs,\n",
    "                                                       colsample = cols)\n",
    "                    ind = kf.split(X)\n",
    "                    scores = []\n",
    "                    for train_ind, test_ind in ind:\n",
    "                        clf.fit(X[train_ind], y[train_ind])\n",
    "                        scores.append(accuracy_score(y[test_ind], clf.predict(X[test_ind])))\n",
    "                    score = np.mean(np.array(scores))\n",
    "                    \n",
    "                    if score > max_score:\n",
    "                        best_model = {\"n_estimators\" : n_est, \"loss\" : los, \"learning_rate\" : learn_rate,\n",
    "                                      \"subsample\" : subs, \"colsample\" : cols}\n",
    "                        max_score = score\n",
    "                    resv.append(score)"
   ]
  },
  {
   "cell_type": "code",
   "execution_count": 24,
   "metadata": {
    "colab": {
     "base_uri": "https://localhost:8080/"
    },
    "executionInfo": {
     "elapsed": 13,
     "status": "ok",
     "timestamp": 1676506901931,
     "user": {
      "displayName": "Ольга Гета",
      "userId": "00618668048117275602"
     },
     "user_tz": -180
    },
    "id": "QrJgCLj3yAYD",
    "outputId": "581b6970-d364-4c11-a4af-bfe5320caf0b"
   },
   "outputs": [
    {
     "name": "stdout",
     "output_type": "stream",
     "text": [
      "{'n_estimators': 20, 'loss': 'MSE', 'learning_rate': 0.3, 'subsample': 1.0, 'colsample': 0.8}\n",
      "0.9618701550387597\n"
     ]
    }
   ],
   "source": [
    "print(best_model)\n",
    "print(max_score)"
   ]
  },
  {
   "cell_type": "markdown",
   "metadata": {
    "id": "dpG-s-8cxI2S"
   },
   "source": [
    "## BooBag BagBoo (1 балл)\n",
    "\n"
   ]
  },
  {
   "cell_type": "markdown",
   "metadata": {
    "id": "_JigSAlxxI2S"
   },
   "source": [
    "Попробуем объединить бустинг и бэгинг. Давайте\n",
    "\n",
    "1) в качестве базовой модели брать не дерево решений, а случайный лес (из sklearn)\n",
    "\n",
    "2) обучать N бустингов на бустрапированной выборке, а затем предикт усреднять"
   ]
  },
  {
   "cell_type": "markdown",
   "metadata": {
    "id": "oGl4XomFxI2S"
   },
   "source": [
    "Попробуйте обе этих стратегии на данных из прошлого задания. Получилось ли улучшить качество? Почему?"
   ]
  },
  {
   "cell_type": "code",
   "execution_count": null,
   "metadata": {
    "colab": {
     "base_uri": "https://localhost:8080/",
     "height": 375
    },
    "executionInfo": {
     "elapsed": 1358447,
     "status": "error",
     "timestamp": 1676509218894,
     "user": {
      "displayName": "Ольга Гета",
      "userId": "00618668048117275602"
     },
     "user_tz": -180
    },
    "id": "fN5AIIeJxI2S",
    "outputId": "02d0ed89-d3ab-4729-9910-4a155e9168da"
   },
   "outputs": [],
   "source": [
    "clf = MyGradientBoostingClassifier(**best_model)\n",
    "ind = kf.split(X)\n",
    "scores = []\n",
    "for train_ind, test_ind in ind:\n",
    "    clf.fit(X[train_ind], y[train_ind], base_model = RandomForestRegressor)\n",
    "    scores.append(accuracy_score(y[test_ind], clf.predict(X[test_ind])))\n",
    "score = np.mean(np.array(scores))\n",
    "score\n",
    "#качество не улучшилось, вычисления были ОЧЕНЬ долгие"
   ]
  },
  {
   "cell_type": "code",
   "execution_count": 26,
   "metadata": {
    "executionInfo": {
     "elapsed": 11,
     "status": "aborted",
     "timestamp": 1676507858198,
     "user": {
      "displayName": "Ольга Гета",
      "userId": "00618668048117275602"
     },
     "user_tz": -180
    },
    "id": "cUl9begkxI2S"
   },
   "outputs": [],
   "source": [
    "def get_bootstrap_samples(X, y):\n",
    "    indices = np.random.choice(y.size, y.size)\n",
    "    samples = X[indices]\n",
    "    y_new = y[indices]\n",
    "    return samples, y_new"
   ]
  },
  {
   "cell_type": "code",
   "execution_count": 27,
   "metadata": {
    "executionInfo": {
     "elapsed": 11,
     "status": "aborted",
     "timestamp": 1676507858199,
     "user": {
      "displayName": "Ольга Гета",
      "userId": "00618668048117275602"
     },
     "user_tz": -180
    },
    "id": "Fb31BtOUAMyz"
   },
   "outputs": [],
   "source": [
    "N = 7\n",
    "scors = []\n",
    "for i in range(N):\n",
    "    data, new_y = get_bootstrap_samples(X, y)\n",
    "    clf = MyGradientBoostingClassifier(**best_model)\n",
    "    ind = kf.split(data)\n",
    "    scores = []\n",
    "    for train_ind, test_ind in ind:\n",
    "        clf.fit(data[train_ind], new_y[train_ind])\n",
    "        scores.append(accuracy_score(new_y[test_ind], clf.predict(data[test_ind])))\n",
    "    score = np.mean(np.array(scores))\n",
    "    scors.append(score)"
   ]
  },
  {
   "cell_type": "code",
   "execution_count": 28,
   "metadata": {
    "executionInfo": {
     "elapsed": 11,
     "status": "aborted",
     "timestamp": 1676507858199,
     "user": {
      "displayName": "Ольга Гета",
      "userId": "00618668048117275602"
     },
     "user_tz": -180
    },
    "id": "sukDq_i3Ai04"
   },
   "outputs": [
    {
     "data": {
      "text/plain": [
       "0.9762942967884829"
      ]
     },
     "execution_count": 28,
     "metadata": {},
     "output_type": "execute_result"
    }
   ],
   "source": [
    "scors = np.asarray(scors)\n",
    "scors.mean()\n",
    "#Усреднение 7 бустингов дало небольшой прирост в качестве, \n",
    "#но потребовалось больше времени, чтобы обучить модель и предсказать результат. "
   ]
  },
  {
   "cell_type": "markdown",
   "metadata": {
    "collapsed": true,
    "id": "C-4oWtKNxI2S"
   },
   "source": [
    "## Умная инициализация (1 балл)\n",
    "\n",
    "Попробуйте брать в качестве инициализации бустинга не константу, а какой-то алгоритм и уже от его предикта стартовать итерации бустинга. Попробуйте разные модели из sklearn: линейные модели, рандом форест, svm..\n",
    "\n",
    "Получилось ли улучшить качество? Почему?\n",
    "\n"
   ]
  },
  {
   "cell_type": "code",
   "execution_count": 29,
   "metadata": {
    "executionInfo": {
     "elapsed": 9,
     "status": "aborted",
     "timestamp": 1676507858199,
     "user": {
      "displayName": "Ольга Гета",
      "userId": "00618668048117275602"
     },
     "user_tz": -180
    },
    "id": "dtCv6xAUxI2S"
   },
   "outputs": [
    {
     "data": {
      "text/plain": [
       "0.9326065891472869"
      ]
     },
     "execution_count": 29,
     "metadata": {},
     "output_type": "execute_result"
    }
   ],
   "source": [
    "clf = MyGradientBoostingClassifier(**best_model)\n",
    "ind = kf.split(X)\n",
    "scores = []\n",
    "for train_ind, test_ind in ind:\n",
    "    clf.fit(X[train_ind], y[train_ind], init_model = RandomForestRegressor)\n",
    "    scores.append(accuracy_score(y[test_ind], clf.predict(X[test_ind])))\n",
    "score = np.mean(np.array(scores))\n",
    "score"
   ]
  },
  {
   "cell_type": "code",
   "execution_count": 30,
   "metadata": {
    "executionInfo": {
     "elapsed": 8,
     "status": "aborted",
     "timestamp": 1676507858199,
     "user": {
      "displayName": "Ольга Гета",
      "userId": "00618668048117275602"
     },
     "user_tz": -180
    },
    "id": "SxZaI8fFAxgD"
   },
   "outputs": [
    {
     "data": {
      "text/plain": [
       "0.9626453488372092"
      ]
     },
     "execution_count": 30,
     "metadata": {},
     "output_type": "execute_result"
    }
   ],
   "source": [
    "clf = MyGradientBoostingClassifier(**best_model)\n",
    "ind = kf.split(X)\n",
    "scores = []\n",
    "for train_ind, test_ind in ind:\n",
    "    clf.fit(X[train_ind], y[train_ind], init_model = LinearRegression)\n",
    "    scores.append(accuracy_score(y[test_ind], clf.predict(X[test_ind])))\n",
    "score = np.mean(np.array(scores))\n",
    "score"
   ]
  },
  {
   "cell_type": "code",
   "execution_count": 31,
   "metadata": {
    "executionInfo": {
     "elapsed": 9,
     "status": "aborted",
     "timestamp": 1676507858200,
     "user": {
      "displayName": "Ольга Гета",
      "userId": "00618668048117275602"
     },
     "user_tz": -180
    },
    "id": "bk8E57xbAxi1"
   },
   "outputs": [
    {
     "data": {
      "text/plain": [
       "0.95484496124031"
      ]
     },
     "execution_count": 31,
     "metadata": {},
     "output_type": "execute_result"
    }
   ],
   "source": [
    "clf = MyGradientBoostingClassifier(**best_model)\n",
    "ind = kf.split(X)\n",
    "scores = []\n",
    "for train_ind, test_ind in ind:\n",
    "    clf.fit(X[train_ind], y[train_ind], init_model = SVR)\n",
    "    scores.append(accuracy_score(y[test_ind], clf.predict(X[test_ind])))\n",
    "score = np.mean(np.array(scores))\n",
    "score\n",
    "#Умная инициализация не показала прироста качества модели, но значительно увеличилась скорость обучения на SVM."
   ]
  },
  {
   "cell_type": "markdown",
   "metadata": {
    "id": "LjyFM8LtxI2T"
   },
   "source": [
    "## Фидбек (бесценно)"
   ]
  },
  {
   "cell_type": "markdown",
   "metadata": {
    "id": "Q0iFuvpUxI2T"
   },
   "source": [
    "* Какие аспекты обучения  ансамблей Вам показались непонятными? Какое место стоит дополнительно объяснить?"
   ]
  },
  {
   "cell_type": "markdown",
   "metadata": {
    "id": "65Wv38naxI2T"
   },
   "source": [
    "### Ваш ответ здесь"
   ]
  },
  {
   "cell_type": "markdown",
   "metadata": {
    "id": "Ww6z8bgRxI2T"
   },
   "source": [
    "* Здесь Вы можете оставить отзыв о этой домашней работе или о всем курсе."
   ]
  },
  {
   "cell_type": "markdown",
   "metadata": {
    "id": "6rjWzjZKxI2T"
   },
   "source": [
    "### ВАШ ОТЗЫВ ЗДЕСЬ\n",
    "\n"
   ]
  },
  {
   "cell_type": "code",
   "execution_count": null,
   "metadata": {
    "collapsed": true,
    "executionInfo": {
     "elapsed": 8,
     "status": "aborted",
     "timestamp": 1676507858200,
     "user": {
      "displayName": "Ольга Гета",
      "userId": "00618668048117275602"
     },
     "user_tz": -180
    },
    "id": "tFwqak6gxI2T"
   },
   "outputs": [],
   "source": [
    "Есть непонятные аспекты со стороны матана"
   ]
  },
  {
   "cell_type": "code",
   "execution_count": null,
   "metadata": {
    "collapsed": true,
    "executionInfo": {
     "elapsed": 8,
     "status": "aborted",
     "timestamp": 1676507858200,
     "user": {
      "displayName": "Ольга Гета",
      "userId": "00618668048117275602"
     },
     "user_tz": -180
    },
    "id": "pEYUn1_BxI2T"
   },
   "outputs": [],
   "source": []
  }
 ],
 "metadata": {
  "anaconda-cloud": {},
  "colab": {
   "provenance": []
  },
  "kernelspec": {
   "display_name": "Python 3 (ipykernel)",
   "language": "python",
   "name": "python3"
  },
  "language_info": {
   "codemirror_mode": {
    "name": "ipython",
    "version": 3
   },
   "file_extension": ".py",
   "mimetype": "text/x-python",
   "name": "python",
   "nbconvert_exporter": "python",
   "pygments_lexer": "ipython3",
   "version": "3.9.13"
  }
 },
 "nbformat": 4,
 "nbformat_minor": 1
}
